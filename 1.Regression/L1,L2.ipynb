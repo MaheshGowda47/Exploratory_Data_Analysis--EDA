{
 "cells": [
  {
   "cell_type": "code",
   "execution_count": 2,
   "metadata": {},
   "outputs": [
    {
     "name": "stdout",
     "output_type": "stream",
     "text": [
      "Lasso coefficients: [9.5000000e-01 8.8817842e-17]\n",
      "Ridge coefficients: [0.49751244 0.49751244]\n"
     ]
    }
   ],
   "source": [
    "from sklearn.linear_model import Lasso, Ridge\n",
    "\n",
    "# Example dataset\n",
    "X = [[1, 2],\n",
    "     [2, 3],\n",
    "     [3, 4],\n",
    "     [4, 5],\n",
    "     [5, 6]]\n",
    "y = [5, 6, 7, 8, 9]\n",
    "\n",
    "# Penalty value (regularization parameter)\n",
    "penalty = 0.1\n",
    "\n",
    "# Fit Lasso (L1) regression\n",
    "lasso = Lasso(alpha=penalty)  # normalize=True for scaling features\n",
    "lasso.fit(X, y)\n",
    "lasso_coefs = lasso.coef_\n",
    "\n",
    "# Fit Ridge (L2) regression\n",
    "ridge = Ridge(alpha=penalty)\n",
    "ridge.fit(X, y)\n",
    "ridge_coefs = ridge.coef_\n",
    "\n",
    "print(\"Lasso coefficients:\", lasso_coefs)\n",
    "print(\"Ridge coefficients:\", ridge_coefs)\n"
   ]
  }
 ],
 "metadata": {
  "kernelspec": {
   "display_name": "venv",
   "language": "python",
   "name": "python3"
  },
  "language_info": {
   "codemirror_mode": {
    "name": "ipython",
    "version": 3
   },
   "file_extension": ".py",
   "mimetype": "text/x-python",
   "name": "python",
   "nbconvert_exporter": "python",
   "pygments_lexer": "ipython3",
   "version": "3.11.5"
  }
 },
 "nbformat": 4,
 "nbformat_minor": 2
}
