{
 "cells": [
  {
   "cell_type": "markdown",
   "metadata": {},
   "source": [
    "# **Ecommerce Company DataSet**"
   ]
  },
  {
   "cell_type": "markdown",
   "metadata": {},
   "source": [
    "As the amount that X company has to pay to the courier companies is very High, so the Goal is to verify if the charges levied by their Delivery patterns **per order** are Correct.\n",
    "\n",
    "**Data Source :** https://drive.google.com/file/d/1k9R2vlKwQngF3BgndSOEszXFxTn9z7ed/view?usp=drive\n"
   ]
  },
  {
   "cell_type": "code",
   "execution_count": null,
   "metadata": {},
   "outputs": [],
   "source": []
  }
 ],
 "metadata": {
  "language_info": {
   "name": "python"
  }
 },
 "nbformat": 4,
 "nbformat_minor": 2
}
